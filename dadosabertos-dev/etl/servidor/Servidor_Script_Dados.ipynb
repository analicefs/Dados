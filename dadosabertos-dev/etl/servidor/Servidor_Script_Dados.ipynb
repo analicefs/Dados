{
 "cells": [
  {
   "cell_type": "markdown",
   "metadata": {},
   "source": [
    "# ReadMe: Script da inserção dos dados para a base de servidores\n",
    "* Observações Iniciais: Será utilizado o psycopg2 para fazer a conexão com o banco de dados PostgreSQL, recomenda-se fazer de 1 mês por vez.\n",
    "* É realizado a conexão com o banco de dados e são criados as tabelas oficiais de cadastro, remuneracao e a fato (que é uma junção das duas) e também suas temporárias. Além disso, o script para valores repetidos em cadastro é criado.\n",
    "* Ideia:\n",
    "    1. Conexão com o banco de dados.\n",
    "    * Esses dados serão extraídos e colocados em 'exports'.\n",
    "    * Depois serão removidos os arquivos não utilizados, onde os que serão utilizados, ficarão na pasta 'processados'.\n",
    "    * É realizado um ajuste nos csv de processados para se ajustarem melhor a leitura dos dados.\n",
    "    * São inseridos os valores nas temporárias.\n",
    "        - As temporárias foram criadas com o propósito de armazenarem os valores e inserirem primeiramente na temp de fato e em seguida adicionar com a oficial.\n",
    "    * Remoção dos arquivos em 'exports' e 'processados'.\n",
    "    * Inserção dos valores na fato temporária.\n",
    "    * Inserção e remoção dos valores da temporária na oficial.\n",
    "    \n",
    "    \n",
    "* Observações: \n",
    " - códigos de órgãos - existem alguns que não são inteiros, então são colocados como varchar\n",
    " - Cadastro_all_bruto é a tabela que todos os dados são inseridos. Depois, os dados são atualizados com as foreign keys e por último é inserido sem as duplicações na final tabela (cadastro)."
   ]
  },
  {
   "cell_type": "markdown",
   "metadata": {},
   "source": [
    "## Observação sobre a Remuneração básica bruta do servidor em reais:\n",
    "É composta pela soma das parcelas remuneratórias correspondentes ao cargo efetivo, a função ou o cargo comissionado e, ainda, aos seguintes adicionais: adicional de certificação profissional (formação, especialização, aperfeiçoamento, auto estudo), adicional de insalubridade, adicional de periculosidade, adicional noturno, adicional plantão hospitalar, adicional serviço extraordinário, adicional de sobreaviso, adicional de gestão educacional e adicional por tempo de serviço."
   ]
  },
  {
   "cell_type": "code",
   "execution_count": 1,
   "metadata": {},
   "outputs": [],
   "source": [
    "import pandas as pd\n",
    "import numpy as np\n",
    "import zipfile\n",
    "import os\n",
    "import psycopg2\n",
    "import subprocess\n",
    "import csv"
   ]
  },
  {
   "cell_type": "markdown",
   "metadata": {},
   "source": [
    "# Comandos para instalar o psycopg2\n",
    "* Comando para instalar o psycopg2\n",
    "\n",
    "conda install -c anaconda psycopg2"
   ]
  },
  {
   "cell_type": "markdown",
   "metadata": {},
   "source": [
    "### Função Usada \n",
    "* Existem casos em remuneracao que a última está preenchida com uma observação, estamos removendo essa observação"
   ]
  },
  {
   "cell_type": "code",
   "execution_count": 2,
   "metadata": {},
   "outputs": [],
   "source": [
    "def remove_last_line(r):\n",
    "    count = 0;\n",
    "    for i in r.columns:\n",
    "        if pd.isna(r.iloc[-1][i]):\n",
    "            count = count + 1\n",
    "    if count > (r.columns.size / 2):\n",
    "        r = r.drop(r.index[-1])\n",
    "    return r"
   ]
  },
  {
   "cell_type": "markdown",
   "metadata": {},
   "source": [
    "## 1. Conexão com o Banco de Dados (Só precisa executar apenas uma vez)"
   ]
  },
  {
   "cell_type": "code",
   "execution_count": 3,
   "metadata": {},
   "outputs": [],
   "source": [
    "try:\n",
    "    conn = psycopg2.connect(dbname='pagamento_hibrido_db', user='dmining', host='texas.intranet', password='#@dmining#@')\n",
    "except:\n",
    "    print(\"I am unable to connect to the database\")"
   ]
  },
  {
   "cell_type": "markdown",
   "metadata": {},
   "source": [
    "#### 1.1 É necessário criar uma tabela temporária para os dados"
   ]
  },
  {
   "cell_type": "code",
   "execution_count": 4,
   "metadata": {},
   "outputs": [],
   "source": [
    "cur = conn.cursor()\n",
    "cur.execute(\"\"\"\n",
    "-- Atuará como uma temporária\n",
    "CREATE TABLE IF NOT EXISTS servidores.cadastro_all_bruto(\n",
    "id_servidor_portal bigint, \n",
    "  nome varchar, \n",
    "  cpf varchar, \n",
    "  matricula varchar, \n",
    "  descricao_cargo varchar, \n",
    "  classe_cargo varchar, \n",
    "  referencia_cargo varchar, \n",
    "  padrao_cargo varchar, \n",
    "  nivel_cargo varchar, \n",
    "  sigla_funcao varchar, \n",
    "  nivel_funcao varchar, \n",
    "  funcao varchar, \n",
    "  codigo_atividade varchar, \n",
    "  atividade varchar, \n",
    "  cod_uorg_lotacao varchar, \n",
    "  uorg_lotacao varchar, \n",
    "  cod_org_lotacao varchar, \n",
    "  org_lotacao varchar, \n",
    "  cod_orgsup_lotacao varchar, \n",
    "  orgsup_lotacao varchar, \n",
    "  cod_uorg_exercicio varchar, \n",
    "  uorg_exercicio varchar, \n",
    "  cod_org_exercicio varchar, \n",
    "  org_exercicio  varchar, \n",
    "  cod_orgsup_exercicio varchar, \n",
    "  orgsup_exercicio varchar, \n",
    "  tipo_vinculo varchar, \n",
    "  situacao_vinculo varchar, \n",
    "  data_inicio_afastamento varchar, \n",
    "  data_termino_afastamento varchar, \n",
    "  regime_juridico varchar, \n",
    "  jornada_de_trabalho varchar, \n",
    "  uf_exercicio varchar\n",
    ");\n",
    "\"\"\")\n",
    "conn.commit()"
   ]
  },
  {
   "cell_type": "markdown",
   "metadata": {},
   "source": [
    "# Script para a extração, pré processamento e inserção dos dados no banco\n",
    "* Observação: Crie a pasta 'dados' e coloque dentro dela os arquivos .zip"
   ]
  },
  {
   "cell_type": "markdown",
   "metadata": {},
   "source": [
    "### 2. Extração de .zip para .csv"
   ]
  },
  {
   "cell_type": "code",
   "execution_count": 5,
   "metadata": {},
   "outputs": [],
   "source": [
    "for file in os.listdir(path='dados/'):\n",
    "    zip_ref = zipfile.ZipFile('dados/{}'.format(file), 'r')\n",
    "    zip_ref.extractall('dados/exports')\n",
    "    zip_ref.close()"
   ]
  },
  {
   "cell_type": "markdown",
   "metadata": {},
   "source": [
    "### 3. Remoção dos .csv extraídos não utilizados (redução de espaço do disco)"
   ]
  },
  {
   "cell_type": "code",
   "execution_count": 6,
   "metadata": {},
   "outputs": [],
   "source": [
    "c = 0\n",
    "for file in os.listdir(path='dados/exports/'):\n",
    "    if 'Remuneracao.csv' != file.split(\"_\")[1] and 'Cadastro.csv' != file.split(\"_\")[1]:\n",
    "        os.remove(\"dados/exports/{}\".format(file))\n",
    "os.mkdir('dados/processados')"
   ]
  },
  {
   "cell_type": "markdown",
   "metadata": {},
   "source": [
    "### 4. Pré processamento dos .csv para novos .csv com formatos e ajustes"
   ]
  },
  {
   "cell_type": "code",
   "execution_count": 7,
   "metadata": {},
   "outputs": [
    {
     "name": "stderr",
     "output_type": "stream",
     "text": [
      "/home/jose.freires/anaconda3/lib/python3.6/site-packages/IPython/core/interactiveshell.py:2728: DtypeWarning: Columns (0) have mixed types. Specify dtype option on import or set low_memory=False.\n",
      "  interactivity=interactivity, compiler=compiler, result=result)\n"
     ]
    },
    {
     "name": "stdout",
     "output_type": "stream",
     "text": [
      "Arquivo Finalizado: 20160229_Remuneracao.csv\n"
     ]
    },
    {
     "name": "stderr",
     "output_type": "stream",
     "text": [
      "/home/jose.freires/anaconda3/lib/python3.6/site-packages/IPython/core/interactiveshell.py:2728: DtypeWarning: Columns (23) have mixed types. Specify dtype option on import or set low_memory=False.\n",
      "  interactivity=interactivity, compiler=compiler, result=result)\n"
     ]
    },
    {
     "name": "stdout",
     "output_type": "stream",
     "text": [
      "Arquivo Finalizado: 20160229_Cadastro.csv\n"
     ]
    }
   ],
   "source": [
    "# Esse é um processo um pouco demorado\n",
    "for file in os.listdir(path='dados/exports/'):\n",
    "    nome = file.split(\"_\")[1]\n",
    "    # Para os Cadastros\n",
    "    if nome == 'Cadastro.csv':\n",
    "        c = pd.read_csv('dados/exports/{}'.format(file), delimiter=';',encoding='latin1',dtype={'NIVEL_CARGO':object})\n",
    "        c = c.drop(['OPCAO_PARCIAL', 'DATA_INGRESSO_CARGOFUNCAO', 'DATA_NOMEACAO_CARGOFUNCAO', \n",
    "                    'DATA_INGRESSO_ORGAO', 'DOCUMENTO_INGRESSO_SERVICOPUBLICO', \n",
    "                    'DATA_DIPLOMA_INGRESSO_SERVICOPUBLICO', 'DIPLOMA_INGRESSO_CARGOFUNCAO',\n",
    "                    'DIPLOMA_INGRESSO_ORGAO', 'DIPLOMA_INGRESSO_SERVICOPUBLICO'], axis=1)\n",
    "        c.to_csv('dados/processados/{}'.format(file), sep='\\t', index=False)\n",
    "        \n",
    "    # Para as Remunerações    \n",
    "    if nome == 'Remuneracao.csv':\n",
    "        r = pd.read_csv('dados/exports/{}'.format(file), delimiter=';',encoding='latin1', decimal=',', dtype={'MES':object, 'Id_SERVIDOR_PORTAL':object})\n",
    "        r = remove_last_line(r);\n",
    "        r = r[['ANO', 'MES', 'Id_SERVIDOR_PORTAL', 'CPF', 'NOME', \n",
    "                 'REMUNERAÇÃO BÁSICA BRUTA (R$)', 'REMUNERAÇÃO BÁSICA BRUTA (U$)']].copy()\n",
    "        r['DATA'] = r['ANO'].astype(str) + r['MES'].astype(str)\n",
    "        r.to_csv('dados/processados/{}'.format(file), index=False)\n",
    "        \n",
    "    print('Arquivo Finalizado: {}'.format(file));"
   ]
  },
  {
   "cell_type": "markdown",
   "metadata": {},
   "source": [
    "### 5. Inserção dos dados processados para o banco PostgreSQL na tabela temporária"
   ]
  },
  {
   "cell_type": "code",
   "execution_count": 8,
   "metadata": {},
   "outputs": [
    {
     "name": "stdout",
     "output_type": "stream",
     "text": [
      "Importado arquivo remuneracao 20160229_Remuneracao.csv\n",
      "Importado arquivo de cadastro 20160229_Cadastro.csv \n",
      "CPU times: user 2.4 s, sys: 376 ms, total: 2.78 s\n",
      "Wall time: 32 s\n"
     ]
    }
   ],
   "source": [
    "%%time\n",
    "for file in os.listdir(path='dados/processados/'):\n",
    "    nome = file.split(\"_\")[1]\n",
    "    if nome == 'Cadastro.csv': \n",
    "        cur = conn.cursor()\n",
    "        with open('dados/processados/' + file, 'r') as f:\n",
    "            next(f)  # Skip the header row.\n",
    "            cur.copy_from(f, 'servidores.cadastro_all_bruto', sep='\\t')\n",
    "        conn.commit()\n",
    "        print(\"Importado arquivo de cadastro {} \".format(file))\n",
    "    if nome == 'Remuneracao.csv':\n",
    "        cur = conn.cursor()\n",
    "        with open('dados/processados/' + file, 'r') as f:\n",
    "            next(f)  # Skip the header row.\n",
    "            cur.copy_from(f, 'servidores.remuneracao', sep=',')\n",
    "        conn.commit()\n",
    "        print(\"Importado arquivo remuneracao {}\".format(file))"
   ]
  },
  {
   "cell_type": "markdown",
   "metadata": {},
   "source": [
    "### 6. Remoção dos arquivos processados e exportados"
   ]
  },
  {
   "cell_type": "code",
   "execution_count": 9,
   "metadata": {},
   "outputs": [],
   "source": [
    "c = 0\n",
    "for file in os.listdir(path='dados/exports/'):\n",
    "        os.remove(\"dados/exports/{}\".format(file))\n",
    "for file in os.listdir(path='dados/processados/'):\n",
    "        os.remove(\"dados/processados/{}\".format(file))\n",
    "os.rmdir(\"dados/exports\")\n",
    "os.rmdir(\"dados/processados\")"
   ]
  },
  {
   "cell_type": "markdown",
   "metadata": {},
   "source": [
    "### 7. Inserindo os valores na tabela fato_cargo_funcao_remuneracao e outras tabelas"
   ]
  },
  {
   "cell_type": "markdown",
   "metadata": {},
   "source": [
    "#### 7.1 Povoando as tabelas de órgãos, cargo e função"
   ]
  },
  {
   "cell_type": "code",
   "execution_count": 10,
   "metadata": {},
   "outputs": [
    {
     "name": "stdout",
     "output_type": "stream",
     "text": [
      "Órgão Superior Finalizado\n",
      "Órgão Subordinado Finalizado\n",
      "Unidade Órgão Finalizado\n",
      "Cargo Finalizado\n",
      "Função Finalizado\n",
      "Atividade Finalizado\n",
      "Vinculo Finalizado\n"
     ]
    }
   ],
   "source": [
    "cur = conn.cursor()\n",
    "cur.execute(\"\"\"\n",
    "INSERT INTO servidores.orgao_superior\n",
    "SELECT DISTINCT cod_orgsup_lotacao, orgsup_lotacao\n",
    "FROM servidores.cadastro_all_bruto;\n",
    "\n",
    "INSERT INTO servidores.orgao_superior\n",
    "SELECT DISTINCT cod_orgsup_exercicio, orgsup_exercicio\n",
    "FROM servidores.cadastro_all_bruto;\n",
    "\"\"\")\n",
    "conn.commit()\n",
    "print(\"Órgão Superior Finalizado\")\n",
    "\n",
    "cur = conn.cursor()\n",
    "cur.execute(\"\"\"\n",
    "INSERT INTO servidores.orgao_subordinado\n",
    "SELECT DISTINCT cod_org_lotacao, org_lotacao\n",
    "FROM servidores.cadastro_all_bruto;\n",
    "\n",
    "INSERT INTO servidores.orgao_subordinado\n",
    "SELECT DISTINCT cod_org_exercicio, org_exercicio\n",
    "FROM servidores.cadastro_all_bruto;\n",
    "\"\"\")\n",
    "\n",
    "conn.commit()\n",
    "print(\"Órgão Subordinado Finalizado\")\n",
    "\n",
    "cur = conn.cursor()\n",
    "cur.execute(\"\"\"\n",
    "INSERT INTO servidores.unidade_orgao\n",
    "SELECT DISTINCT cod_uorg_lotacao, uorg_lotacao\n",
    "FROM servidores.cadastro_all_bruto;\n",
    "\n",
    "INSERT INTO servidores.unidade_orgao\n",
    "SELECT DISTINCT cod_uorg_exercicio, uorg_exercicio\n",
    "FROM servidores.cadastro_all_bruto;\n",
    "\"\"\")\n",
    "conn.commit()\n",
    "print(\"Unidade Órgão Finalizado\")\n",
    "\n",
    "cur = conn.cursor()\n",
    "cur.execute(\"\"\"\n",
    "INSERT INTO servidores.cargo(descricao_cargo, classe_cargo, referencia_cargo, padrao_cargo, nivel_cargo)\n",
    "SELECT DISTINCT descricao_cargo, classe_cargo, referencia_cargo, padrao_cargo, nivel_cargo\n",
    "FROM servidores.cadastro_all_bruto;\n",
    "\"\"\")\n",
    "conn.commit()\n",
    "print(\"Cargo Finalizado\")\n",
    "\n",
    "cur = conn.cursor()\n",
    "cur.execute(\"\"\"\n",
    "INSERT INTO servidores.funcao(sigla_funcao, nivel_funcao, funcao)\n",
    "SELECT DISTINCT sigla_funcao, nivel_funcao, funcao\n",
    "FROM servidores.cadastro_all_bruto;\n",
    "\"\"\")\n",
    "conn.commit()\n",
    "print(\"Função Finalizado\")\n",
    "\n",
    "cur = conn.cursor()\n",
    "cur.execute(\"\"\"\n",
    "INSERT INTO servidores.atividade(codigo_atividade, atividade)\n",
    "SELECT DISTINCT codigo_atividade, atividade\n",
    "FROM servidores.cadastro_all_bruto;\n",
    "\"\"\")\n",
    "conn.commit()\n",
    "print(\"Atividade Finalizado\")\n",
    "\n",
    "cur = conn.cursor()\n",
    "cur.execute(\"\"\"\n",
    "INSERT INTO servidores.vinculo(tipo_vinculo, situacao_vinculo)\n",
    "SELECT DISTINCT tipo_vinculo, situacao_vinculo\n",
    "FROM servidores.cadastro_all_bruto;\n",
    "\"\"\")\n",
    "conn.commit()\n",
    "print(\"Vinculo Finalizado\")"
   ]
  },
  {
   "cell_type": "markdown",
   "metadata": {},
   "source": [
    "#### 7.2 Criando Foreign Keys"
   ]
  },
  {
   "cell_type": "code",
   "execution_count": 11,
   "metadata": {},
   "outputs": [
    {
     "name": "stdout",
     "output_type": "stream",
     "text": [
      "Novas Colunas para Foreign Keys criado\n"
     ]
    }
   ],
   "source": [
    "cur = conn.cursor()\n",
    "cur.execute(\"\"\"\n",
    "ALTER TABLE servidores.cadastro_all_bruto ADD COLUMN id_cargo integer;\n",
    "ALTER TABLE servidores.cadastro_all_bruto ADD COLUMN id_funcao integer;\n",
    "ALTER TABLE servidores.cadastro_all_bruto ADD COLUMN id_atividade integer;\n",
    "ALTER TABLE servidores.cadastro_all_bruto ADD COLUMN id_vinculo integer;\n",
    "\"\"\")\n",
    "conn.commit()\n",
    "print('Novas Colunas para Foreign Keys criado')"
   ]
  },
  {
   "cell_type": "markdown",
   "metadata": {},
   "source": [
    "#### 7.3 Adicionando a Foreign key para cargo, função, atividade e vinculos"
   ]
  },
  {
   "cell_type": "code",
   "execution_count": 12,
   "metadata": {},
   "outputs": [
    {
     "name": "stdout",
     "output_type": "stream",
     "text": [
      "Update Cargo Finalizado\n",
      "Update Função Finalizado\n",
      "Update Atividade Finalizado\n",
      "Update Vinculo Finalizado\n"
     ]
    }
   ],
   "source": [
    "cur = conn.cursor()\n",
    "cur.execute(\"\"\"\n",
    "UPDATE servidores.cadastro_all_bruto\n",
    "SET id_cargo = cg.id_cargo\n",
    "FROM servidores.cargo as cg\n",
    "WHERE cg.descricao_cargo = servidores.cadastro_all_bruto.descricao_cargo AND \n",
    "cg.classe_cargo = servidores.cadastro_all_bruto.classe_cargo AND \n",
    "cg.referencia_cargo = servidores.cadastro_all_bruto.referencia_cargo AND \n",
    "cg.padrao_cargo = servidores.cadastro_all_bruto.padrao_cargo AND \n",
    "cg.nivel_cargo = servidores.cadastro_all_bruto.nivel_cargo;\n",
    "\"\"\")\n",
    "conn.commit()\n",
    "print('Update Cargo Finalizado')\n",
    "\n",
    "cur = conn.cursor()\n",
    "cur.execute(\"\"\"\n",
    "UPDATE servidores.cadastro_all_bruto\n",
    "SET id_funcao = f.id_funcao\n",
    "FROM servidores.funcao as f\n",
    "WHERE f.sigla_funcao = servidores.cadastro_all_bruto.sigla_funcao AND \n",
    "f.nivel_funcao = servidores.cadastro_all_bruto.nivel_funcao AND f.funcao = servidores.cadastro_all_bruto.funcao;\n",
    "\"\"\")\n",
    "conn.commit()\n",
    "print('Update Função Finalizado')\n",
    "\n",
    "cur = conn.cursor()\n",
    "cur.execute(\"\"\"\n",
    "UPDATE servidores.cadastro_all_bruto\n",
    "SET id_atividade = a.id_atividade\n",
    "FROM servidores.atividade as a\n",
    "WHERE a.codigo_atividade = servidores.cadastro_all_bruto.codigo_atividade AND \n",
    "a.atividade = servidores.cadastro_all_bruto.atividade;\n",
    "\"\"\")\n",
    "conn.commit()\n",
    "print('Update Atividade Finalizado')\n",
    "\n",
    "cur = conn.cursor()\n",
    "cur.execute(\"\"\"  \n",
    "UPDATE servidores.cadastro_all_bruto\n",
    "SET id_vinculo = v.id_vinculo\n",
    "FROM servidores.vinculo as v\n",
    "WHERE v.tipo_vinculo = servidores.cadastro_all_bruto.tipo_vinculo AND \n",
    "v.situacao_vinculo = servidores.cadastro_all_bruto.situacao_vinculo;\n",
    "\"\"\")\n",
    "conn.commit()\n",
    "print('Update Vinculo Finalizado')"
   ]
  },
  {
   "cell_type": "markdown",
   "metadata": {},
   "source": [
    "#### 7.4 Povoando as fato_cargo_funcao_remuneracao"
   ]
  },
  {
   "cell_type": "code",
   "execution_count": 13,
   "metadata": {},
   "outputs": [
    {
     "name": "stdout",
     "output_type": "stream",
     "text": [
      "Funções adicionadas na fato\n",
      "Cargos adicionados na fato\n",
      "Casos especiais adicionados na fato\n"
     ]
    }
   ],
   "source": [
    "cur = conn.cursor()\n",
    "cur.execute(\"\"\"\n",
    "-- atividade = função (isso veio da versão antiga, ver a issue #157 para mais detalhes e modificar aqui) \n",
    "INSERT INTO servidores.fato_cargo_funcao_remuneracao\n",
    "SELECT 'F' as tipo, c.id_servidor_portal, c.id_cargo, c.id_funcao, \n",
    "c.id_atividade, c.id_vinculo, c.cod_uorg_lotacao, c.cod_org_lotacao, c.cod_orgsup_lotacao, \n",
    "c.cod_uorg_exercicio, c.cod_org_exercicio, c.cod_orgsup_exercicio, \n",
    "r.ano, r.mes, r.remuneracao_basica_bruta_brl, r.remuneracao_basica_bruta_url, r.data\n",
    "FROM servidores.cadastro_all_bruto c, servidores.remuneracao r\n",
    "WHERE c.id_servidor_portal = r.id_servidor_portal AND \n",
    "(c.codigo_atividade <> '-1' AND c.atividade <> 'Sem informação');\n",
    "\"\"\")\n",
    "conn.commit()\n",
    "print(\"Funções adicionadas na fato\")\n",
    "\n",
    "cur = conn.cursor()\n",
    "cur.execute(\"\"\"\n",
    "INSERT INTO servidores.fato_cargo_funcao_remuneracao\n",
    "SELECT 'C' as tipo, c.id_servidor_portal, c.id_cargo, c.id_funcao, \n",
    "c.id_atividade, c.id_vinculo, c.cod_uorg_lotacao, c.cod_org_lotacao, c.cod_orgsup_lotacao, \n",
    "c.cod_uorg_exercicio, c.cod_org_exercicio, c.cod_orgsup_exercicio, \n",
    "r.ano, r.mes, r.remuneracao_basica_bruta_brl, r.remuneracao_basica_bruta_url, r.data\n",
    "FROM servidores.cadastro_all_bruto c, servidores.remuneracao r\n",
    "WHERE c.id_servidor_portal = r.id_servidor_portal AND \n",
    "(c.descricao_cargo <> 'Inválido' AND c.descricao_cargo <> 'Sem informação');\n",
    "\"\"\")\n",
    "conn.commit()\n",
    "print(\"Cargos adicionados na fato\")\n",
    "    \n",
    "cur = conn.cursor()\n",
    "cur.execute(\"\"\"\n",
    "INSERT INTO servidores.fato_cargo_funcao_remuneracao\n",
    "SELECT 'N' as tipo, c.id_servidor_portal, c.id_cargo, c.id_funcao, \n",
    "c.id_atividade, c.id_vinculo, c.cod_uorg_lotacao, c.cod_org_lotacao, c.cod_orgsup_lotacao, \n",
    "c.cod_uorg_exercicio, c.cod_org_exercicio, c.cod_orgsup_exercicio, \n",
    "r.ano, r.mes, r.remuneracao_basica_bruta_brl, r.remuneracao_basica_bruta_url, r.data\n",
    "FROM servidores.cadastro_all_bruto c, servidores.remuneracao r\n",
    "WHERE c.id_servidor_portal = r.id_servidor_portal AND \n",
    "(c.descricao_cargo = 'Inválido' AND c.codigo_atividade = '-1');\n",
    "\"\"\")\n",
    "conn.commit()\n",
    "print(\"Casos especiais adicionados na fato\")"
   ]
  },
  {
   "cell_type": "markdown",
   "metadata": {},
   "source": [
    "### 8. Inserção dos valores da temporária na oficial e remoção dos valores duplicados através da trigger"
   ]
  },
  {
   "cell_type": "code",
   "execution_count": 14,
   "metadata": {},
   "outputs": [],
   "source": [
    "cur = conn.cursor()\n",
    "cur.execute(\"\"\"\n",
    "INSERT INTO servidores.cadastro(\n",
    "            id_servidor_portal, nome, cpf, matricula, id_cargo, id_funcao, id_atividade, id_vinculo,\n",
    "            cod_uorg_lotacao, cod_org_lotacao, cod_orgsup_lotacao, cod_uorg_exercicio, cod_org_exercicio, \n",
    "            cod_orgsup_exercicio, data_inicio_afastamento, data_termino_afastamento, regime_juridico, \n",
    "            jornada_de_trabalho, uf_exercicio)\n",
    "SELECT id_servidor_portal, nome, cpf, matricula, id_cargo, id_funcao, id_atividade, id_vinculo,\n",
    "            cod_uorg_lotacao, cod_org_lotacao, cod_orgsup_lotacao, cod_uorg_exercicio, cod_org_exercicio, \n",
    "            cod_orgsup_exercicio, data_inicio_afastamento, data_termino_afastamento, regime_juridico, \n",
    "            jornada_de_trabalho, uf_exercicio\n",
    "FROM servidores.cadastro_all_bruto\n",
    "\"\"\")\n",
    "conn.commit()"
   ]
  },
  {
   "cell_type": "code",
   "execution_count": 15,
   "metadata": {},
   "outputs": [],
   "source": [
    "cur = conn.cursor()\n",
    "cur.execute(\"\"\"\n",
    "DROP TABLE servidores.cadastro_all_bruto;\n",
    "\"\"\")\n",
    "conn.commit()"
   ]
  },
  {
   "cell_type": "code",
   "execution_count": null,
   "metadata": {},
   "outputs": [],
   "source": []
  }
 ],
 "metadata": {
  "kernelspec": {
   "display_name": "Python 3",
   "language": "python",
   "name": "python3"
  },
  "language_info": {
   "codemirror_mode": {
    "name": "ipython",
    "version": 3
   },
   "file_extension": ".py",
   "mimetype": "text/x-python",
   "name": "python",
   "nbconvert_exporter": "python",
   "pygments_lexer": "ipython3",
   "version": "3.6.4"
  }
 },
 "nbformat": 4,
 "nbformat_minor": 2
}
