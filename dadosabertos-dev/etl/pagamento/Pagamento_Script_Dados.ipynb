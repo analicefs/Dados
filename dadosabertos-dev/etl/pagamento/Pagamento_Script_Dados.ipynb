{
 "cells": [
  {
   "cell_type": "markdown",
   "metadata": {},
   "source": [
    "# ReadMe de Pagamentos\n",
    "## Esse script faz:\n",
    "1. Extração dos .zip dentro da pasta que colocou os arquivos (deve-se colocar dentro da pasta dados_pagamento, coloque no formato .zip)\n",
    "* Pré-processamento para remover erros e tipos de atributos diferentes\n",
    "* Insere no banco em uma tabela com tudo (pagamentos_all_bruto)\n",
    "* Remove arquivos que já não precisa mais\n",
    "* Preenche as tabelas menores (ação, programa, elemento_despesa...)\n",
    "* Preenche a tabela oficial de pagamento com as Foreign Key das tabelas menores (Reduz bastante espaço!)\n",
    "* Remove as tuplas da tabela com tudo, pois não é mais necessária"
   ]
  },
  {
   "cell_type": "code",
   "execution_count": 1,
   "metadata": {},
   "outputs": [],
   "source": [
    "import pandas as pd\n",
    "import numpy as np\n",
    "import zipfile\n",
    "import os\n",
    "import psycopg2\n",
    "import subprocess\n",
    "import csv"
   ]
  },
  {
   "cell_type": "markdown",
   "metadata": {},
   "source": [
    "# Comandos para instalar o psycopg2\n",
    "* Comando para instalar o psycopg2\n",
    "\n",
    "conda install -c anaconda psycopg2"
   ]
  },
  {
   "cell_type": "markdown",
   "metadata": {},
   "source": [
    "## Conexão com o Banco de Dados (Só precisa executar apenas uma vez)"
   ]
  },
  {
   "cell_type": "code",
   "execution_count": 2,
   "metadata": {},
   "outputs": [],
   "source": [
    "try:\n",
    "    conn = psycopg2.connect(dbname='pagamento_hibrido_db', user='dmining', host='texas.intranet', password='#@dmining#@')\n",
    "except:\n",
    "    print(\"I am unable to connect to the database\")"
   ]
  },
  {
   "cell_type": "markdown",
   "metadata": {},
   "source": [
    "## 1. Extração dos .zip"
   ]
  },
  {
   "cell_type": "code",
   "execution_count": 3,
   "metadata": {},
   "outputs": [
    {
     "ename": "FileNotFoundError",
     "evalue": "[Errno 2] No such file or directory: 'dados_pagamento/'",
     "output_type": "error",
     "traceback": [
      "\u001b[0;31m---------------------------------------------------------------------------\u001b[0m",
      "\u001b[0;31mFileNotFoundError\u001b[0m                         Traceback (most recent call last)",
      "\u001b[0;32m<ipython-input-3-eda0344f07d1>\u001b[0m in \u001b[0;36m<module>\u001b[0;34m()\u001b[0m\n\u001b[0;32m----> 1\u001b[0;31m \u001b[0;32mfor\u001b[0m \u001b[0mfile\u001b[0m \u001b[0;32min\u001b[0m \u001b[0mos\u001b[0m\u001b[0;34m.\u001b[0m\u001b[0mlistdir\u001b[0m\u001b[0;34m(\u001b[0m\u001b[0mpath\u001b[0m\u001b[0;34m=\u001b[0m\u001b[0;34m'dados_pagamento/'\u001b[0m\u001b[0;34m)\u001b[0m\u001b[0;34m:\u001b[0m\u001b[0;34m\u001b[0m\u001b[0m\n\u001b[0m\u001b[1;32m      2\u001b[0m     \u001b[0mzip_ref\u001b[0m \u001b[0;34m=\u001b[0m \u001b[0mzipfile\u001b[0m\u001b[0;34m.\u001b[0m\u001b[0mZipFile\u001b[0m\u001b[0;34m(\u001b[0m\u001b[0;34m'dados_pagamento/{}'\u001b[0m\u001b[0;34m.\u001b[0m\u001b[0mformat\u001b[0m\u001b[0;34m(\u001b[0m\u001b[0mfile\u001b[0m\u001b[0;34m)\u001b[0m\u001b[0;34m,\u001b[0m \u001b[0;34m'r'\u001b[0m\u001b[0;34m)\u001b[0m\u001b[0;34m\u001b[0m\u001b[0m\n\u001b[1;32m      3\u001b[0m     \u001b[0mzip_ref\u001b[0m\u001b[0;34m.\u001b[0m\u001b[0mextractall\u001b[0m\u001b[0;34m(\u001b[0m\u001b[0;34m'dados_pagamento/exports'\u001b[0m\u001b[0;34m)\u001b[0m\u001b[0;34m\u001b[0m\u001b[0m\n\u001b[1;32m      4\u001b[0m     \u001b[0mzip_ref\u001b[0m\u001b[0;34m.\u001b[0m\u001b[0mclose\u001b[0m\u001b[0;34m(\u001b[0m\u001b[0;34m)\u001b[0m\u001b[0;34m\u001b[0m\u001b[0m\n\u001b[1;32m      5\u001b[0m \u001b[0mos\u001b[0m\u001b[0;34m.\u001b[0m\u001b[0mmkdir\u001b[0m\u001b[0;34m(\u001b[0m\u001b[0;34m'dados_pagamento/processados'\u001b[0m\u001b[0;34m)\u001b[0m\u001b[0;34m\u001b[0m\u001b[0m\n",
      "\u001b[0;31mFileNotFoundError\u001b[0m: [Errno 2] No such file or directory: 'dados_pagamento/'"
     ]
    }
   ],
   "source": [
    "for file in os.listdir(path='dados_pagamento/'):\n",
    "    zip_ref = zipfile.ZipFile('dados_pagamento/{}'.format(file), 'r')\n",
    "    zip_ref.extractall('dados_pagamento/exports')\n",
    "    zip_ref.close()\n",
    "os.mkdir('dados_pagamento/processados')"
   ]
  },
  {
   "cell_type": "markdown",
   "metadata": {},
   "source": [
    "## 2. Pré-Processamento dos CSVs\n",
    "\n",
    "* Foi preenchido com -100 os valores NaN, pois -1 já existia, ou seja, -1 representa os valores que já estavam no csv, enquanto -100 são os valores NaN, existem outros valores negativos, mas não sabe-se o que eles representam.\n",
    "* Em programa, todos os valores são int, com exceção de um que é 0P que representa 'Sem Informação', esse valor foi convertido para -99 para representar o 0P\n",
    "* É necessário remover os acentos, pois isso dá problema no primary key com o mesmo código, mas nomes diferentes\n",
    "    - Atualmente é apenas feito para elemento_despesa, modalidade_despesa, programa."
   ]
  },
  {
   "cell_type": "code",
   "execution_count": 4,
   "metadata": {
    "scrolled": false
   },
   "outputs": [
    {
     "ename": "FileNotFoundError",
     "evalue": "[Errno 2] No such file or directory: 'dados_pagamento/exports/'",
     "output_type": "error",
     "traceback": [
      "\u001b[0;31m---------------------------------------------------------------------------\u001b[0m",
      "\u001b[0;31mFileNotFoundError\u001b[0m                         Traceback (most recent call last)",
      "\u001b[0;32m<ipython-input-4-2d030a89450e>\u001b[0m in \u001b[0;36m<module>\u001b[0;34m()\u001b[0m\n\u001b[0;32m----> 1\u001b[0;31m \u001b[0;32mfor\u001b[0m \u001b[0mfile\u001b[0m \u001b[0;32min\u001b[0m \u001b[0mos\u001b[0m\u001b[0;34m.\u001b[0m\u001b[0mlistdir\u001b[0m\u001b[0;34m(\u001b[0m\u001b[0mpath\u001b[0m\u001b[0;34m=\u001b[0m\u001b[0;34m'dados_pagamento/exports/'\u001b[0m\u001b[0;34m)\u001b[0m\u001b[0;34m:\u001b[0m\u001b[0;34m\u001b[0m\u001b[0m\n\u001b[0m\u001b[1;32m      2\u001b[0m     \u001b[0mp\u001b[0m \u001b[0;34m=\u001b[0m \u001b[0mpd\u001b[0m\u001b[0;34m.\u001b[0m\u001b[0mread_csv\u001b[0m\u001b[0;34m(\u001b[0m\u001b[0;34m'dados_pagamento/exports/{}'\u001b[0m\u001b[0;34m.\u001b[0m\u001b[0mformat\u001b[0m\u001b[0;34m(\u001b[0m\u001b[0mfile\u001b[0m\u001b[0;34m)\u001b[0m\u001b[0;34m,\u001b[0m \u001b[0mdelimiter\u001b[0m\u001b[0;34m=\u001b[0m\u001b[0;34m';'\u001b[0m\u001b[0;34m,\u001b[0m\u001b[0mencoding\u001b[0m\u001b[0;34m=\u001b[0m\u001b[0;34m'latin1'\u001b[0m\u001b[0;34m)\u001b[0m\u001b[0;34m\u001b[0m\u001b[0m\n\u001b[1;32m      3\u001b[0m     \u001b[0mp\u001b[0m\u001b[0;34m[\u001b[0m\u001b[0;34m'ANO'\u001b[0m\u001b[0;34m]\u001b[0m\u001b[0;34m,\u001b[0m \u001b[0mp\u001b[0m\u001b[0;34m[\u001b[0m\u001b[0;34m'MES'\u001b[0m\u001b[0;34m]\u001b[0m \u001b[0;34m=\u001b[0m \u001b[0mp\u001b[0m\u001b[0;34m[\u001b[0m\u001b[0;34m'Ano e mês do lançamento'\u001b[0m\u001b[0;34m]\u001b[0m\u001b[0;34m.\u001b[0m\u001b[0mastype\u001b[0m\u001b[0;34m(\u001b[0m\u001b[0mstr\u001b[0m\u001b[0;34m)\u001b[0m\u001b[0;34m.\u001b[0m\u001b[0mstr\u001b[0m\u001b[0;34m.\u001b[0m\u001b[0mpartition\u001b[0m\u001b[0;34m(\u001b[0m\u001b[0;34m'/'\u001b[0m\u001b[0;34m)\u001b[0m\u001b[0;34m[\u001b[0m\u001b[0;36m0\u001b[0m\u001b[0;34m]\u001b[0m\u001b[0;34m,\u001b[0m \u001b[0mp\u001b[0m\u001b[0;34m[\u001b[0m\u001b[0;34m'Ano e mês do lançamento'\u001b[0m\u001b[0;34m]\u001b[0m\u001b[0;34m.\u001b[0m\u001b[0mastype\u001b[0m\u001b[0;34m(\u001b[0m\u001b[0mstr\u001b[0m\u001b[0;34m)\u001b[0m\u001b[0;34m.\u001b[0m\u001b[0mstr\u001b[0m\u001b[0;34m.\u001b[0m\u001b[0mpartition\u001b[0m\u001b[0;34m(\u001b[0m\u001b[0;34m'/'\u001b[0m\u001b[0;34m)\u001b[0m\u001b[0;34m[\u001b[0m\u001b[0;36m2\u001b[0m\u001b[0;34m]\u001b[0m\u001b[0;34m\u001b[0m\u001b[0m\n\u001b[1;32m      4\u001b[0m     \u001b[0mp\u001b[0m\u001b[0;34m[\u001b[0m\u001b[0;34m'DATA'\u001b[0m\u001b[0;34m]\u001b[0m \u001b[0;34m=\u001b[0m \u001b[0mp\u001b[0m\u001b[0;34m[\u001b[0m\u001b[0;34m'ANO'\u001b[0m\u001b[0;34m]\u001b[0m \u001b[0;34m+\u001b[0m \u001b[0mp\u001b[0m\u001b[0;34m[\u001b[0m\u001b[0;34m'MES'\u001b[0m\u001b[0;34m]\u001b[0m\u001b[0;34m\u001b[0m\u001b[0m\n\u001b[1;32m      5\u001b[0m     \u001b[0mp\u001b[0m \u001b[0;34m=\u001b[0m \u001b[0mp\u001b[0m\u001b[0;34m.\u001b[0m\u001b[0mdrop\u001b[0m\u001b[0;34m(\u001b[0m\u001b[0;34m[\u001b[0m\u001b[0;34m'Ano e mês do lançamento'\u001b[0m\u001b[0;34m]\u001b[0m\u001b[0;34m,\u001b[0m \u001b[0maxis\u001b[0m\u001b[0;34m=\u001b[0m\u001b[0;36m1\u001b[0m\u001b[0;34m)\u001b[0m\u001b[0;34m\u001b[0m\u001b[0m\n",
      "\u001b[0;31mFileNotFoundError\u001b[0m: [Errno 2] No such file or directory: 'dados_pagamento/exports/'"
     ]
    }
   ],
   "source": [
    "for file in os.listdir(path='dados_pagamento/exports/'):\n",
    "    p = pd.read_csv('dados_pagamento/exports/{}'.format(file), delimiter=';',encoding='latin1')\n",
    "    p['ANO'], p['MES'] = p['Ano e mês do lançamento'].astype(str).str.partition('/')[0], p['Ano e mês do lançamento'].astype(str).str.partition('/')[2]\n",
    "    p['DATA'] = p['ANO'] + p['MES']\n",
    "    p = p.drop(['Ano e mês do lançamento'], axis=1)\n",
    "    p = p.fillna(-100)\n",
    "    p[\"Código Grupo de Despesa\"] = p[\"Código Grupo de Despesa\"].astype(str).str.replace('I', '-1')\n",
    "    p = p.astype({\"Código Gestão\": np.int64, \"Código Grupo de Despesa\": np.int64})\n",
    "    p[\"Valor Empenhado (R$)\"] = p[\"Valor Empenhado (R$)\"].astype(str).str.replace(',', '.')\n",
    "    p[\"Valor Liquidado (R$)\"] = p[\"Valor Liquidado (R$)\"].astype(str).str.replace(',', '.')\n",
    "    p[\"Valor Pago (R$)\"] = p[\"Valor Pago (R$)\"].astype(str).str.replace(',', '.')\n",
    "    p[\"Valor Restos a Pagar Inscritos (R$)\"] = p[\"Valor Restos a Pagar Inscritos (R$)\"].astype(str).str.replace(',', '.')\n",
    "    p[\"Valor Restos a Pagar Cancelado (R$)\"] = p[\"Valor Restos a Pagar Cancelado (R$)\"].astype(str).str.replace(',', '.')\n",
    "    p[\"Valor Restos a Pagar Pagos (R$)\"] = p[\"Valor Restos a Pagar Pagos (R$)\"].astype(str).str.replace(',', '.')\n",
    "    p.to_csv('dados_pagamento/processados/{}'.format(file), sep='\\t', index=False)\n",
    "    print('Arquivo Finalizado: {}'.format(file));"
   ]
  },
  {
   "cell_type": "markdown",
   "metadata": {},
   "source": [
    "## 3. Inserção no banco"
   ]
  },
  {
   "cell_type": "code",
   "execution_count": 16,
   "metadata": {},
   "outputs": [
    {
     "name": "stdout",
     "output_type": "stream",
     "text": [
      "Importado arquivo de cadastro 201811_Despesas.csv \n",
      "Importado arquivo de cadastro 201808_Despesas.csv \n",
      "Importado arquivo de cadastro 201801_Despesas.csv \n",
      "Importado arquivo de cadastro 201704_Despesas.csv \n",
      "Importado arquivo de cadastro 201705_Despesas.csv \n",
      "Importado arquivo de cadastro 201809_Despesas.csv \n",
      "Importado arquivo de cadastro 201710_Despesas.csv \n",
      "Importado arquivo de cadastro 201807_Despesas.csv \n",
      "Importado arquivo de cadastro 201706_Despesas.csv \n",
      "Importado arquivo de cadastro 201701_Despesas.csv \n",
      "Importado arquivo de cadastro 201804_Despesas.csv \n",
      "Importado arquivo de cadastro 201703_Despesas.csv \n",
      "Importado arquivo de cadastro 201708_Despesas.csv \n",
      "Importado arquivo de cadastro 201803_Despesas.csv \n",
      "Importado arquivo de cadastro 201707_Despesas.csv \n",
      "Importado arquivo de cadastro 201802_Despesas.csv \n",
      "Importado arquivo de cadastro 201709_Despesas.csv \n",
      "Importado arquivo de cadastro 201805_Despesas.csv \n",
      "Importado arquivo de cadastro 201711_Despesas.csv \n",
      "Importado arquivo de cadastro 201702_Despesas.csv \n",
      "Importado arquivo de cadastro 201806_Despesas.csv \n",
      "Importado arquivo de cadastro 201810_Despesas.csv \n",
      "Importado arquivo de cadastro 201712_Despesas.csv \n"
     ]
    }
   ],
   "source": [
    "for file in os.listdir(path='dados_pagamento/processados/'):\n",
    "    cur = conn.cursor()\n",
    "    with open('dados_pagamento/processados/' + file, 'r', encoding=\"utf8\") as f:\n",
    "        next(f)  # Skip the header row.\n",
    "        cur.copy_from(f, 'pagamentos.pagamento_all_bruto', sep='\\t')\n",
    "    conn.commit()\n",
    "    print(\"Importado arquivo de cadastro {} \".format(file))"
   ]
  },
  {
   "cell_type": "markdown",
   "metadata": {},
   "source": [
    "## 4. Remoção dos arquivos processados e exportados"
   ]
  },
  {
   "cell_type": "code",
   "execution_count": 17,
   "metadata": {},
   "outputs": [],
   "source": [
    "c = 0\n",
    "for file in os.listdir(path='dados_pagamento/exports/'):\n",
    "        os.remove(\"dados_pagamento/exports/{}\".format(file))\n",
    "for file in os.listdir(path='dados_pagamento/processados/'):\n",
    "        os.remove(\"dados_pagamento/processados/{}\".format(file))\n",
    "os.rmdir(\"dados_pagamento/exports\")\n",
    "os.rmdir(\"dados_pagamento/processados\")"
   ]
  },
  {
   "cell_type": "markdown",
   "metadata": {},
   "source": [
    "## 5. Preenchendo as outras tabelas"
   ]
  },
  {
   "cell_type": "code",
   "execution_count": 18,
   "metadata": {},
   "outputs": [
    {
     "name": "stdout",
     "output_type": "stream",
     "text": [
      "Ações Finalizado\n",
      "Elemento Despesa Finalizado\n",
      "Função Finalizado\n",
      "Gestão Finalizado\n",
      "Grupo Despesa Finalizado\n",
      "Modalidade Despesa Finalizado\n",
      "Órgão Superior Finalizado\n",
      "Programa Finalizado\n",
      "Programa_Governo Finalizado\n",
      "Subfunção Finalizado\n",
      "Unidade Gestora Finalizado\n",
      "Unidade Orçamentária Finalizado\n",
      "Órgão Subordinado Finalizado\n"
     ]
    }
   ],
   "source": [
    "cur = conn.cursor()\n",
    "cur.execute(\"\"\"\n",
    "INSERT INTO pagamentos.acao\n",
    "SELECT cod_acao, nome_acao\n",
    "FROM pagamentos.pagamento_all_bruto;\n",
    "\"\"\")\n",
    "conn.commit()\n",
    "print(\"Ações Finalizado\")\n",
    "\n",
    "cur = conn.cursor()\n",
    "cur.execute(\"\"\"\n",
    "INSERT INTO pagamentos.elemento_despesa\n",
    "SELECT cod_elemento_despesa, nome_elemento_despesa\n",
    "FROM pagamentos.pagamento_all_bruto;\n",
    "\"\"\")\n",
    "conn.commit()\n",
    "print(\"Elemento Despesa Finalizado\")\n",
    "\n",
    "cur = conn.cursor()\n",
    "cur.execute(\"\"\"\n",
    "INSERT INTO pagamentos.funcao\n",
    "SELECT cod_funcao, nome_funcao\n",
    "FROM pagamentos.pagamento_all_bruto;\n",
    "\"\"\")\n",
    "conn.commit()\n",
    "print(\"Função Finalizado\")\n",
    "\n",
    "cur = conn.cursor()\n",
    "cur.execute(\"\"\"\n",
    "INSERT INTO pagamentos.gestao\n",
    "SELECT cod_gestao, nome_gestao\n",
    "FROM pagamentos.pagamento_all_bruto;\n",
    "\"\"\")\n",
    "conn.commit()\n",
    "print(\"Gestão Finalizado\")\n",
    "\n",
    "cur = conn.cursor()\n",
    "cur.execute(\"\"\"\n",
    "INSERT INTO pagamentos.grupo_despesa\n",
    "SELECT cod_grupo_despesa, nome_grupo_despesa\n",
    "FROM pagamentos.pagamento_all_bruto;\n",
    "\"\"\")\n",
    "conn.commit()\n",
    "print(\"Grupo Despesa Finalizado\")\n",
    "\n",
    "cur = conn.cursor()\n",
    "cur.execute(\"\"\"\n",
    "INSERT INTO pagamentos.modalidade_despesa\n",
    "SELECT cod_modalidade_despesa, nome_modalidade_despesa\n",
    "FROM pagamentos.pagamento_all_bruto;\n",
    "\"\"\")\n",
    "conn.commit()\n",
    "print(\"Modalidade Despesa Finalizado\")\n",
    "\n",
    "cur = conn.cursor()\n",
    "cur.execute(\"\"\"\n",
    "INSERT INTO pagamentos.orgao_superior\n",
    "SELECT cod_orgao_superior, nome_orgao_superior\n",
    "FROM pagamentos.pagamento_all_bruto;\n",
    "\"\"\")\n",
    "conn.commit()\n",
    "print(\"Órgão Superior Finalizado\")\n",
    "\n",
    "cur = conn.cursor()\n",
    "cur.execute(\"\"\"\n",
    "INSERT INTO pagamentos.programa\n",
    "SELECT cod_programa, nome_programa\n",
    "FROM pagamentos.pagamento_all_bruto;\n",
    "\"\"\")\n",
    "conn.commit()\n",
    "print(\"Programa Finalizado\")\n",
    "\n",
    "cur = conn.cursor()\n",
    "cur.execute(\"\"\"\n",
    "INSERT INTO pagamentos.programa_governo\n",
    "SELECT cod_programa_governo, nome_programa_governo\n",
    "FROM pagamentos.pagamento_all_bruto;\n",
    "\"\"\")\n",
    "conn.commit()\n",
    "print(\"Programa_Governo Finalizado\")\n",
    "\n",
    "cur = conn.cursor()\n",
    "cur.execute(\"\"\"\n",
    "INSERT INTO pagamentos.subfuncao\n",
    "SELECT cod_subfuncao, nome_subfuncao\n",
    "FROM pagamentos.pagamento_all_bruto;\n",
    "\"\"\")\n",
    "conn.commit()\n",
    "print(\"Subfunção Finalizado\")\n",
    "\n",
    "cur = conn.cursor()\n",
    "cur.execute(\"\"\"\n",
    "INSERT INTO pagamentos.unidade_gestora\n",
    "SELECT cod_unidade_gestora, nome_unidade_gestora\n",
    "FROM pagamentos.pagamento_all_bruto;\n",
    "\"\"\")\n",
    "conn.commit()\n",
    "print(\"Unidade Gestora Finalizado\")\n",
    "\n",
    "cur = conn.cursor()\n",
    "cur.execute(\"\"\"\n",
    "INSERT INTO pagamentos.unidade_orcamentaria\n",
    "SELECT cod_unidade_orcamentaria, nome_unidade_orcamentaria\n",
    "FROM pagamentos.pagamento_all_bruto;\n",
    "\"\"\")\n",
    "conn.commit()\n",
    "print(\"Unidade Orçamentária Finalizado\")\n",
    "\n",
    "cur = conn.cursor()\n",
    "cur.execute(\"\"\"\n",
    "INSERT INTO pagamentos.orgao_subordinado\n",
    "SELECT cod_orgao_subordinado, nome_orgao_subordinado, cod_orgao_superior\n",
    "FROM pagamentos.pagamento_all_bruto;\n",
    "\"\"\")\n",
    "conn.commit()\n",
    "print(\"Órgão Subordinado Finalizado\")"
   ]
  },
  {
   "cell_type": "markdown",
   "metadata": {},
   "source": [
    "## 6. Preenchendo a tabela Pagamento com as Foreign Keys"
   ]
  },
  {
   "cell_type": "code",
   "execution_count": 19,
   "metadata": {},
   "outputs": [],
   "source": [
    "cur = conn.cursor()\n",
    "cur.execute(\"\"\"\n",
    "INSERT INTO pagamentos.pagamento(\n",
    "            cod_orgao_superior, cod_orgao_subordinado, cod_unidade_gestora, \n",
    "            cod_gestao, cod_unidade_orcamentaria, cod_funcao, cod_subfuncao, \n",
    "            cod_programa, cod_acao, cod_programa_governo, cod_grupo_despesa, \n",
    "            cod_elemento_despesa, cod_modalidade_despesa, valor_empenhado, \n",
    "            valor_liquidado, valor_pago, valor_restos_a_pagar_inscritos, \n",
    "            valor_restos_a_pagar_cancelado, valor_restos_a_pagar_pagos, mes, \n",
    "            ano, data)\n",
    "SELECT cod_orgao_superior, cod_orgao_subordinado, cod_unidade_gestora, \n",
    "            cod_gestao, cod_unidade_orcamentaria, cod_funcao, cod_subfuncao, \n",
    "            cod_programa, cod_acao, cod_programa_governo, cod_grupo_despesa, \n",
    "            cod_elemento_despesa, cod_modalidade_despesa, valor_empenhado, \n",
    "            valor_liquidado, valor_pago, valor_restos_a_pagar_inscritos, \n",
    "            valor_restos_a_pagar_cancelado, valor_restos_a_pagar_pagos, mes, \n",
    "            ano, data\n",
    "FROM pagamentos.pagamento_all_bruto\n",
    "\"\"\")"
   ]
  },
  {
   "cell_type": "code",
   "execution_count": 20,
   "metadata": {},
   "outputs": [],
   "source": [
    "conn.commit()"
   ]
  },
  {
   "cell_type": "markdown",
   "metadata": {},
   "source": [
    "## 7. Revovendo a tabela com os dados brutos"
   ]
  },
  {
   "cell_type": "code",
   "execution_count": 21,
   "metadata": {},
   "outputs": [],
   "source": [
    "cur = conn.cursor()\n",
    "cur.execute(\"\"\"\n",
    "TRUNCATE TABLE pagamentos.pagamento_all_bruto\n",
    "\"\"\")"
   ]
  },
  {
   "cell_type": "code",
   "execution_count": 22,
   "metadata": {},
   "outputs": [],
   "source": [
    "conn.commit()"
   ]
  },
  {
   "cell_type": "code",
   "execution_count": null,
   "metadata": {},
   "outputs": [],
   "source": []
  }
 ],
 "metadata": {
  "kernelspec": {
   "display_name": "Python 3",
   "language": "python",
   "name": "python3"
  },
  "language_info": {
   "codemirror_mode": {
    "name": "ipython",
    "version": 3
   },
   "file_extension": ".py",
   "mimetype": "text/x-python",
   "name": "python",
   "nbconvert_exporter": "python",
   "pygments_lexer": "ipython3",
   "version": "3.6.4"
  }
 },
 "nbformat": 4,
 "nbformat_minor": 2
}
